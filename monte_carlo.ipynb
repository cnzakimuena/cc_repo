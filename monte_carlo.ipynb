{
  "cells": [
    {
      "cell_type": "markdown",
      "metadata": {
        "id": "view-in-github",
        "colab_type": "text"
      },
      "source": [
        "<a href=\"https://colab.research.google.com/github/cnzakimuena/cc_repo/blob/main/monte_carlo.ipynb\" target=\"_parent\"><img src=\"https://colab.research.google.com/assets/colab-badge.svg\" alt=\"Open In Colab\"/></a>"
      ]
    },
    {
      "cell_type": "markdown",
      "metadata": {
        "id": "9lyU5C2AtxSR"
      },
      "source": [
        "## Monte Carlo Markdown"
      ]
    },
    {
      "cell_type": "code",
      "execution_count": null,
      "metadata": {
        "id": "XbPRx-HgtxSX",
        "outputId": "4e208dba-5ea7-4159-9adc-9ca3a08bac7c",
        "colab": {
          "base_uri": "https://localhost:8080/"
        }
      },
      "outputs": [
        {
          "output_type": "stream",
          "name": "stdout",
          "text": [
            "what you say about my mama?\n"
          ]
        }
      ],
      "source": [
        "print(\"what you say about my mama?\")"
      ]
    },
    {
      "cell_type": "markdown",
      "metadata": {
        "id": "TVadgI5_txSa"
      },
      "source": [
        "## As I walked along the Bois de Boulogne"
      ]
    },
    {
      "cell_type": "markdown",
      "metadata": {
        "id": "t-VUv4OftxSb"
      },
      "source": [
        "with an independant air"
      ]
    },
    {
      "cell_type": "markdown",
      "metadata": {
        "id": "5XNHRw8ztxSc"
      },
      "source": [
        "### you could hear the girls declare"
      ]
    },
    {
      "cell_type": "markdown",
      "metadata": {
        "id": "ohMdihWktxSc"
      },
      "source": [
        "*yes sir, I was wondering, sir, please, can I have, uh, honey pepper wings?*"
      ]
    },
    {
      "cell_type": "markdown",
      "metadata": {
        "id": "HerJXPVMtxSd"
      },
      "source": [
        "<sub> what sauce do you have sir, uh, on the wing tip </sub>"
      ]
    },
    {
      "cell_type": "markdown",
      "metadata": {
        "id": "ACx-VLAItxSe"
      },
      "source": [
        "> You can rum-ti-tum-ti-tum-ti-tum, Ti-tuddely-tun-ti-tun-ti-tun"
      ]
    },
    {
      "cell_type": "markdown",
      "metadata": {
        "id": "pRzsObjutxSf"
      },
      "source": [
        "Here he is:\n",
        "```\n",
        "the man who broke the bank at Monte Caaaaaarlo\n",
        "```"
      ]
    }
  ],
  "metadata": {
    "kernelspec": {
      "display_name": "Python 3",
      "language": "python",
      "name": "python3"
    },
    "language_info": {
      "codemirror_mode": {
        "name": "ipython",
        "version": 3
      },
      "file_extension": ".py",
      "mimetype": "text/x-python",
      "name": "python",
      "nbconvert_exporter": "python",
      "pygments_lexer": "ipython3",
      "version": "3.7.6"
    },
    "colab": {
      "provenance": [],
      "include_colab_link": true
    }
  },
  "nbformat": 4,
  "nbformat_minor": 0
}